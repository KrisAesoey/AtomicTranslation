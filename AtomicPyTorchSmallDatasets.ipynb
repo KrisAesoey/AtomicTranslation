{
 "cells": [
  {
   "cell_type": "code",
   "execution_count": 1,
   "source": [
    "import random\n",
    "import numpy as np\n",
    "import csv\n",
    "\n",
    "from tqdm import tqdm\n",
    "\n",
    "import torch\n",
    "import torch.nn as nn\n",
    "from torch import optim\n",
    "from torch.optim import Optimizer\n",
    "from torch.optim.lr_scheduler import _LRScheduler\n",
    "from torch import Tensor\n",
    "import torch.nn.functional as F\n",
    "from torch.utils.data import DataLoader, TensorDataset\n",
    "\n",
    "import torchtext\n",
    "from torchtext.vocab import build_vocab_from_iterator\n",
    "\n",
    "from TorchTransformer import *\n",
    "from evaluation import *"
   ],
   "outputs": [],
   "metadata": {}
  },
  {
   "cell_type": "code",
   "execution_count": 2,
   "source": [
    "# GLOBAL VARIABLES\n",
    "PAD_IDX = 0\n",
    "SOS_TOKEN = 1\n",
    "EOS_TOKEN = 2\n",
    "MAX_LENGTH = 50\n",
    "\n",
    "device = torch.device(\"cuda\" if torch.cuda.is_available() else \"cpu\")\n",
    "print(device)"
   ],
   "outputs": [
    {
     "output_type": "stream",
     "name": "stdout",
     "text": [
      "cuda\n"
     ]
    }
   ],
   "metadata": {}
  },
  {
   "cell_type": "markdown",
   "source": [
    "Set which dataset you want to run the experiment on with the DATSET variable, the name should be the same as the filename found in the atomic_datasets folder without the fileformat."
   ],
   "metadata": {}
  },
  {
   "cell_type": "code",
   "execution_count": null,
   "source": [
    "DATASET = \"all_dataset\""
   ],
   "outputs": [],
   "metadata": {}
  },
  {
   "cell_type": "code",
   "execution_count": 3,
   "source": [
    "def yield_tokens(lines):\n",
    "    for line in lines:\n",
    "        yield line.split()\n",
    "\n",
    "def create_vocab(lang):\n",
    "    vocab = build_vocab_from_iterator(yield_tokens(lang), specials=[\"<PAD>\", \"<SOS>\", \"<EOS>\"], special_first=True)\n",
    "    vocab.set_default_index(-1)\n",
    "    return vocab\n",
    "\n",
    "def read_data(dataset=\"all\"):\n",
    "    print(\"Reading lines...\")\n",
    "\n",
    "    # Read the file and split into lines\n",
    "    lines = []\n",
    "    with open('atomic_datasets/' + dataset + '.csv') as csvfile:\n",
    "        reader = csv.reader(csvfile, delimiter='\\t')\n",
    "        for row in reader:\n",
    "            lines.append(row)\n",
    "    \n",
    "    lang1 = list(map(lambda x: x[0], lines))\n",
    "    lang2 = list(map(lambda x: x[1], lines))\n",
    "\n",
    "    return lang1, lang2, lines\n",
    "\n",
    "def add_sequence_tokens(sentence):\n",
    "    new_sentence = sentence.split()\n",
    "    n_tokens = len(new_sentence)\n",
    "    new_sentence.insert(0, \"<SOS>\")\n",
    "    new_sentence.append(\"<EOS>\")\n",
    "    assert n_tokens + 2 == len(new_sentence)\n",
    "    return \" \".join(new_sentence)\n",
    "\n",
    "def add_sequence_tokens_dataset(data):\n",
    "    new_data = []\n",
    "    for d in data:\n",
    "        new_data.append(add_sequence_tokens(d))\n",
    "    return new_data\n",
    "\n",
    "def tensor_from_sentence(sentence, vocab):\n",
    "    encoded = [vocab[word] for word in sentence.split()]\n",
    "    return torch.tensor(encoded, dtype=torch.long, device=device)\n",
    "\n",
    "def filter_pairs(pairs, MAX_LENGTH):\n",
    "    filtered_pairs = []\n",
    "    for s1, s2 in pairs:\n",
    "        if len(s1.split()) < MAX_LENGTH and len(s2.split()) < MAX_LENGTH:\n",
    "            filtered_pairs.append([s1, s2])\n",
    "            \n",
    "    lang1 = list(map(lambda x: x[0], filtered_pairs))\n",
    "    lang2 = list(map(lambda x: x[1], filtered_pairs))\n",
    "    return lang1, lang2, filtered_pairs\n",
    "\n",
    "def pad_dataset(data, target_length):\n",
    "    new_data = [] \n",
    "    for d in data:\n",
    "        x = d.split()\n",
    "        x = x + [\"<PAD>\"] * (target_length - len(x))\n",
    "        new_data.append(\" \".join(x))\n",
    "    return new_data\n",
    "\n",
    "def create_dataset(src_lang, src_vocab, trg_lang, trg_vocab, MAX_LENGTH):\n",
    "    src_list = []\n",
    "    trg_list = []\n",
    "    \n",
    "    src_lang = pad_dataset(src_lang, MAX_LENGTH)\n",
    "    trg_lang = pad_dataset(trg_lang, MAX_LENGTH)\n",
    "    \n",
    "    for src, trg in zip(src_lang, trg_lang):\n",
    "        src_list.append(tensor_from_sentence(src, src_vocab).to(device))\n",
    "        trg_list.append(tensor_from_sentence(trg, trg_vocab).to(device))\n",
    "    src_tensors = torch.stack(src_list)\n",
    "    trg_tensors = torch.stack(trg_list)\n",
    "    return TensorDataset(src_tensors, trg_tensors)\n",
    "\n",
    "def create_dataset_new(src_lang, src_vocab, trg_lang, trg_vocab, MAX_LENGTH):\n",
    "    src_list = []\n",
    "    trg_list = []\n",
    "    \n",
    "    src_lang = add_sequence_tokens_dataset(src_lang)\n",
    "    trg_lang = add_sequence_tokens_dataset(trg_lang)\n",
    "    \n",
    "    src_lang = pad_dataset(src_lang, MAX_LENGTH + 2)\n",
    "    trg_lang = pad_dataset(trg_lang, MAX_LENGTH + 2)\n",
    "    \n",
    "    for src, trg in zip(src_lang, trg_lang):\n",
    "        src_list.append(tensor_from_sentence(src, src_vocab).to(device))\n",
    "        trg_list.append(tensor_from_sentence(trg, trg_vocab).to(device))\n",
    "    src_tensors = torch.stack(src_list)\n",
    "    trg_tensors = torch.stack(trg_list)\n",
    "    return TensorDataset(src_tensors, trg_tensors)"
   ],
   "outputs": [],
   "metadata": {}
  },
  {
   "cell_type": "code",
   "execution_count": 4,
   "source": [
    "_, _, atomic_pairs = read_data(DATASET)\n",
    "text, logic, _ = filter_pairs(atomic_pairs, MAX_LENGTH)\n",
    "text_vocab = create_vocab(text)\n",
    "logic_vocab = create_vocab(logic)\n",
    "\n",
    "print(len(text), len(logic))\n",
    "print(len(text_vocab), print(len(logic_vocab)))"
   ],
   "outputs": [
    {
     "output_type": "stream",
     "name": "stdout",
     "text": [
      "Reading lines...\n",
      "[\"personx returns to personx's work xintent to keep their job\", 'person (x) & returns to (x,z) & work (z) -> to keep their job (x)']\n",
      "[\"personx returns to personx's work xintent to keep their job\", 'person (x) & returns to (x,z) & work (z) -> to keep their job (x)']\n",
      "571793 571793\n",
      "25943\n",
      "25950 None\n"
     ]
    }
   ],
   "metadata": {}
  },
  {
   "cell_type": "code",
   "execution_count": 5,
   "source": [
    "total_dataset = create_dataset_new(text, text_vocab, logic, logic_vocab, MAX_LENGTH)\n",
    "train_set, val_30k = torch.utils.data.random_split(total_dataset, [len(total_dataset) - 30000, 30000])\n",
    "train_20k, _ = torch.utils.data.random_split(train_set, [20000, len(train_set) - 20000])\n",
    "train_10k, _ = torch.utils.data.random_split(train_set, [10000, len(train_set) - 10000])\n",
    "train_5k, _ = torch.utils.data.random_split(train_set, [5000, len(train_set) - 5000])\n",
    "train_2k, _ = torch.utils.data.random_split(train_set, [2000, len(train_set) - 2000])\n"
   ],
   "outputs": [],
   "metadata": {}
  },
  {
   "cell_type": "code",
   "execution_count": 6,
   "source": [
    "loader_val_30k = DataLoader(val_30k, batch_size=128)\n",
    "loader_20k = DataLoader(train_20k, batch_size=128)\n",
    "loader_10k = DataLoader(train_10k, batch_size=128)\n",
    "loader_5k = DataLoader(train_5k, batch_size=128)\n",
    "loader_2k = DataLoader(train_2k, batch_size=128)\n",
    "\n",
    "training_loaders = [loader_2k,\n",
    "                    loader_5k,\n",
    "                   loader_10k,\n",
    "                   loader_20k]"
   ],
   "outputs": [],
   "metadata": {}
  },
  {
   "cell_type": "code",
   "execution_count": 7,
   "source": [
    "src_vocab_size = len(text_vocab)\n",
    "trg_vocab_size = len(logic_vocab)\n",
    "embed_dim=512\n",
    "transformer2k = Transformer(src_vocab_size,\n",
    "                          trg_vocab_size,\n",
    "                          embed_size=embed_dim,\n",
    "                          max_length=MAX_LENGTH+2,\n",
    "                          dropout=0.1,\n",
    "                          pad_idx=PAD_IDX).to(device)\n",
    "transformer5k = Transformer(src_vocab_size,\n",
    "                          trg_vocab_size,\n",
    "                          embed_size=embed_dim,\n",
    "                          max_length=MAX_LENGTH+2,\n",
    "                          dropout=0.1,\n",
    "                          pad_idx=PAD_IDX).to(device)\n",
    "transformer10k = Transformer(src_vocab_size,\n",
    "                          trg_vocab_size,\n",
    "                          embed_size=embed_dim,\n",
    "                          max_length=MAX_LENGTH+2,\n",
    "                          dropout=0.1,\n",
    "                          pad_idx=PAD_IDX).to(device)\n",
    "transformer20k = Transformer(src_vocab_size,\n",
    "                          trg_vocab_size,\n",
    "                          embed_size=embed_dim,\n",
    "                          max_length=MAX_LENGTH+2,\n",
    "                          dropout=0.1,\n",
    "                          pad_idx=PAD_IDX).to(device)\n",
    "\n",
    "transformers = [transformer2k,\n",
    "                transformer5k,\n",
    "                transformer10k,\n",
    "                transformer20k]\n",
    "\n",
    "transformer_names = [DATASET + \"_2k\",\n",
    "                     DATASET + \"_5k\",\n",
    "                     DATASET + \"_10k\",\n",
    "                     DATASET + \"_20k\"]\n",
    "\n",
    "def count_parameters(model):\n",
    "    return sum(p.numel() for p in model.parameters() if p.requires_grad)\n",
    "\n",
    "print(f'The model has {count_parameters(transformer2k):,} trainable parameters')"
   ],
   "outputs": [
    {
     "output_type": "stream",
     "name": "stdout",
     "text": [
      "The model has 84,071,767 trainable parameters\n"
     ]
    }
   ],
   "metadata": {}
  },
  {
   "cell_type": "code",
   "execution_count": 8,
   "source": [
    "class Scheduler(_LRScheduler):\n",
    "    def __init__(self, \n",
    "                 optimizer: Optimizer,\n",
    "                 dim_embed: int,\n",
    "                 warmup_steps: int,\n",
    "                 last_epoch: int=-1,\n",
    "                 verbose: bool=False) -> None:\n",
    "\n",
    "        self.dim_embed = dim_embed\n",
    "        self.warmup_steps = warmup_steps\n",
    "        self.num_param_groups = len(optimizer.param_groups)\n",
    "\n",
    "        super().__init__(optimizer, last_epoch, verbose)\n",
    "        \n",
    "    def get_lr(self) -> float:\n",
    "        lr = calc_lr(self._step_count, self.dim_embed, self.warmup_steps)\n",
    "        return [lr] * self.num_param_groups\n",
    "\n",
    "\n",
    "def calc_lr(step, dim_embed, warmup_steps):\n",
    "    return dim_embed**(-0.5) * min(step**(-0.5), step * warmup_steps**(-1.5))\n",
    "\n",
    "class TranslationLoss(nn.Module):\n",
    "    def __init__(self, label_smoothing: float=0.0) -> None:\n",
    "        super().__init__()\n",
    "        self.loss_func = nn.CrossEntropyLoss(ignore_index    = PAD_IDX,\n",
    "                                             label_smoothing = label_smoothing)\n",
    "\n",
    "    def forward(self, logits: Tensor, labels: Tensor) -> Tensor:\n",
    "        vocab_size = logits.shape[-1]\n",
    "        logits = logits.reshape(-1, vocab_size)\n",
    "        labels = labels.reshape(-1).long()\n",
    "        return self.loss_func(logits, labels)"
   ],
   "outputs": [],
   "metadata": {}
  },
  {
   "cell_type": "code",
   "execution_count": 9,
   "source": [
    "def train(model: nn.Module,\n",
    "          loader: DataLoader,\n",
    "          loss_func: torch.nn.Module,\n",
    "          optimizer: torch.optim.Optimizer,\n",
    "          scheduler: torch.optim.lr_scheduler._LRScheduler) -> float:\n",
    "\n",
    "    model.train() # train mode\n",
    "    \n",
    "    total_loss = 0\n",
    "    num_batches = len(loader)\n",
    "\n",
    "    for source, target in tqdm(loader):\n",
    "        # feed forward\n",
    "        logits = model(source[:, 1:], target[:, :-1]) #input lacking EOS\n",
    "\n",
    "        # loss calculation\n",
    "        loss = loss_func(logits, target[:, 1:]) #labels lacking SOS\n",
    "        total_loss += loss.item()\n",
    "\n",
    "        # back-prop\n",
    "        optimizer.zero_grad()\n",
    "        loss.backward()\n",
    "        optimizer.step()\n",
    "\n",
    "        # learning rate scheduler\n",
    "        if scheduler is not None:\n",
    "            scheduler.step()\n",
    "\n",
    "    # average training loss\n",
    "    avg_loss = total_loss / num_batches\n",
    "    return avg_loss"
   ],
   "outputs": [],
   "metadata": {}
  },
  {
   "cell_type": "code",
   "execution_count": 10,
   "source": [
    "for transformer, data_loader, name in zip(transformers, training_loaders, transformer_names):\n",
    "    optimizer = optim.Adam(transformer.parameters(),\n",
    "                       betas=(0.9, 0.98),\n",
    "                       eps=1.0e-9)\n",
    "    criterion = TranslationLoss(label_smoothing=0.1)\n",
    "    scheduler = Scheduler(optimizer=optimizer, dim_embed=embed_dim, warmup_steps=4000)\n",
    "    print(\"Training\", name, \":\")\n",
    "    best_res = float(\"inf\")\n",
    "    for e in range(30):\n",
    "        res = train(transformer, data_loader, criterion, optimizer, scheduler)\n",
    "        print(res)\n",
    "        if res < best_res:\n",
    "            best_res = res\n",
    "        else:\n",
    "            break\n",
    "    print(\"------Training complete-----\")\n",
    "    \n",
    "    torch.save(transformer.state_dict(), \"./models/\" + name + \".pt\")\n"
   ],
   "outputs": [
    {
     "output_type": "stream",
     "name": "stdout",
     "text": [
      "Training all_2k :\n"
     ]
    },
    {
     "output_type": "stream",
     "name": "stderr",
     "text": [
      "100%|███████████████████████████████████████████| 16/16 [00:14<00:00,  1.07it/s]\n"
     ]
    },
    {
     "output_type": "stream",
     "name": "stdout",
     "text": [
      "10.148587822914124\n"
     ]
    },
    {
     "output_type": "stream",
     "name": "stderr",
     "text": [
      "100%|███████████████████████████████████████████| 16/16 [00:03<00:00,  5.17it/s]\n"
     ]
    },
    {
     "output_type": "stream",
     "name": "stdout",
     "text": [
      "9.099200248718262\n"
     ]
    },
    {
     "output_type": "stream",
     "name": "stderr",
     "text": [
      "100%|███████████████████████████████████████████| 16/16 [00:03<00:00,  5.17it/s]\n"
     ]
    },
    {
     "output_type": "stream",
     "name": "stdout",
     "text": [
      "8.21500739455223\n"
     ]
    },
    {
     "output_type": "stream",
     "name": "stderr",
     "text": [
      "100%|███████████████████████████████████████████| 16/16 [00:03<00:00,  5.17it/s]\n"
     ]
    },
    {
     "output_type": "stream",
     "name": "stdout",
     "text": [
      "7.734296560287476\n"
     ]
    },
    {
     "output_type": "stream",
     "name": "stderr",
     "text": [
      "100%|███████████████████████████████████████████| 16/16 [00:03<00:00,  5.17it/s]\n"
     ]
    },
    {
     "output_type": "stream",
     "name": "stdout",
     "text": [
      "7.424902617931366\n"
     ]
    },
    {
     "output_type": "stream",
     "name": "stderr",
     "text": [
      "100%|███████████████████████████████████████████| 16/16 [00:03<00:00,  5.16it/s]\n"
     ]
    },
    {
     "output_type": "stream",
     "name": "stdout",
     "text": [
      "7.002890646457672\n"
     ]
    },
    {
     "output_type": "stream",
     "name": "stderr",
     "text": [
      "100%|███████████████████████████████████████████| 16/16 [00:03<00:00,  5.16it/s]\n"
     ]
    },
    {
     "output_type": "stream",
     "name": "stdout",
     "text": [
      "6.296623736619949\n"
     ]
    },
    {
     "output_type": "stream",
     "name": "stderr",
     "text": [
      "100%|███████████████████████████████████████████| 16/16 [00:03<00:00,  5.15it/s]\n"
     ]
    },
    {
     "output_type": "stream",
     "name": "stdout",
     "text": [
      "5.614317715167999\n"
     ]
    },
    {
     "output_type": "stream",
     "name": "stderr",
     "text": [
      "100%|███████████████████████████████████████████| 16/16 [00:03<00:00,  5.15it/s]\n"
     ]
    },
    {
     "output_type": "stream",
     "name": "stdout",
     "text": [
      "5.107887238264084\n"
     ]
    },
    {
     "output_type": "stream",
     "name": "stderr",
     "text": [
      "100%|███████████████████████████████████████████| 16/16 [00:03<00:00,  5.14it/s]\n"
     ]
    },
    {
     "output_type": "stream",
     "name": "stdout",
     "text": [
      "4.7389858067035675\n"
     ]
    },
    {
     "output_type": "stream",
     "name": "stderr",
     "text": [
      "100%|███████████████████████████████████████████| 16/16 [00:03<00:00,  5.14it/s]\n"
     ]
    },
    {
     "output_type": "stream",
     "name": "stdout",
     "text": [
      "4.4936904311180115\n"
     ]
    },
    {
     "output_type": "stream",
     "name": "stderr",
     "text": [
      "100%|███████████████████████████████████████████| 16/16 [00:03<00:00,  5.14it/s]\n"
     ]
    },
    {
     "output_type": "stream",
     "name": "stdout",
     "text": [
      "4.313005596399307\n"
     ]
    },
    {
     "output_type": "stream",
     "name": "stderr",
     "text": [
      "100%|███████████████████████████████████████████| 16/16 [00:03<00:00,  5.13it/s]\n"
     ]
    },
    {
     "output_type": "stream",
     "name": "stdout",
     "text": [
      "4.161639928817749\n"
     ]
    },
    {
     "output_type": "stream",
     "name": "stderr",
     "text": [
      "100%|███████████████████████████████████████████| 16/16 [00:03<00:00,  5.14it/s]\n"
     ]
    },
    {
     "output_type": "stream",
     "name": "stdout",
     "text": [
      "4.030516102910042\n"
     ]
    },
    {
     "output_type": "stream",
     "name": "stderr",
     "text": [
      "100%|███████████████████████████████████████████| 16/16 [00:03<00:00,  5.13it/s]\n"
     ]
    },
    {
     "output_type": "stream",
     "name": "stdout",
     "text": [
      "3.9141005128622055\n"
     ]
    },
    {
     "output_type": "stream",
     "name": "stderr",
     "text": [
      "100%|███████████████████████████████████████████| 16/16 [00:03<00:00,  5.13it/s]\n"
     ]
    },
    {
     "output_type": "stream",
     "name": "stdout",
     "text": [
      "3.806545630097389\n"
     ]
    },
    {
     "output_type": "stream",
     "name": "stderr",
     "text": [
      "100%|███████████████████████████████████████████| 16/16 [00:03<00:00,  5.12it/s]\n"
     ]
    },
    {
     "output_type": "stream",
     "name": "stdout",
     "text": [
      "3.7112599164247513\n"
     ]
    },
    {
     "output_type": "stream",
     "name": "stderr",
     "text": [
      "100%|███████████████████████████████████████████| 16/16 [00:03<00:00,  5.11it/s]\n"
     ]
    },
    {
     "output_type": "stream",
     "name": "stdout",
     "text": [
      "3.6260686814785004\n"
     ]
    },
    {
     "output_type": "stream",
     "name": "stderr",
     "text": [
      "100%|███████████████████████████████████████████| 16/16 [00:03<00:00,  5.12it/s]\n"
     ]
    },
    {
     "output_type": "stream",
     "name": "stdout",
     "text": [
      "3.5469915121793747\n"
     ]
    },
    {
     "output_type": "stream",
     "name": "stderr",
     "text": [
      "100%|███████████████████████████████████████████| 16/16 [00:03<00:00,  5.11it/s]\n"
     ]
    },
    {
     "output_type": "stream",
     "name": "stdout",
     "text": [
      "3.477140963077545\n"
     ]
    },
    {
     "output_type": "stream",
     "name": "stderr",
     "text": [
      "100%|███████████████████████████████████████████| 16/16 [00:03<00:00,  5.11it/s]\n"
     ]
    },
    {
     "output_type": "stream",
     "name": "stdout",
     "text": [
      "3.4136456698179245\n"
     ]
    },
    {
     "output_type": "stream",
     "name": "stderr",
     "text": [
      "100%|███████████████████████████████████████████| 16/16 [00:03<00:00,  5.11it/s]\n"
     ]
    },
    {
     "output_type": "stream",
     "name": "stdout",
     "text": [
      "3.355578362941742\n"
     ]
    },
    {
     "output_type": "stream",
     "name": "stderr",
     "text": [
      "100%|███████████████████████████████████████████| 16/16 [00:03<00:00,  5.11it/s]\n"
     ]
    },
    {
     "output_type": "stream",
     "name": "stdout",
     "text": [
      "3.303591251373291\n"
     ]
    },
    {
     "output_type": "stream",
     "name": "stderr",
     "text": [
      "100%|███████████████████████████████████████████| 16/16 [00:03<00:00,  5.11it/s]\n"
     ]
    },
    {
     "output_type": "stream",
     "name": "stdout",
     "text": [
      "3.247339442372322\n"
     ]
    },
    {
     "output_type": "stream",
     "name": "stderr",
     "text": [
      "100%|███████████████████████████████████████████| 16/16 [00:03<00:00,  5.10it/s]\n"
     ]
    },
    {
     "output_type": "stream",
     "name": "stdout",
     "text": [
      "3.1934486031532288\n"
     ]
    },
    {
     "output_type": "stream",
     "name": "stderr",
     "text": [
      "100%|███████████████████████████████████████████| 16/16 [00:03<00:00,  5.11it/s]\n"
     ]
    },
    {
     "output_type": "stream",
     "name": "stdout",
     "text": [
      "3.139032542705536\n"
     ]
    },
    {
     "output_type": "stream",
     "name": "stderr",
     "text": [
      "100%|███████████████████████████████████████████| 16/16 [00:03<00:00,  5.10it/s]\n"
     ]
    },
    {
     "output_type": "stream",
     "name": "stdout",
     "text": [
      "3.088616192340851\n"
     ]
    },
    {
     "output_type": "stream",
     "name": "stderr",
     "text": [
      "100%|███████████████████████████████████████████| 16/16 [00:03<00:00,  5.10it/s]\n"
     ]
    },
    {
     "output_type": "stream",
     "name": "stdout",
     "text": [
      "3.0366455763578415\n"
     ]
    },
    {
     "output_type": "stream",
     "name": "stderr",
     "text": [
      "100%|███████████████████████████████████████████| 16/16 [00:03<00:00,  5.10it/s]\n"
     ]
    },
    {
     "output_type": "stream",
     "name": "stdout",
     "text": [
      "2.9813808649778366\n"
     ]
    },
    {
     "output_type": "stream",
     "name": "stderr",
     "text": [
      "100%|███████████████████████████████████████████| 16/16 [00:03<00:00,  5.10it/s]\n"
     ]
    },
    {
     "output_type": "stream",
     "name": "stdout",
     "text": [
      "2.9220018833875656\n",
      "------Training complete-----\n",
      "Training all_5k :\n"
     ]
    },
    {
     "output_type": "stream",
     "name": "stderr",
     "text": [
      "100%|███████████████████████████████████████████| 40/40 [00:07<00:00,  5.09it/s]\n"
     ]
    },
    {
     "output_type": "stream",
     "name": "stdout",
     "text": [
      "9.36887047290802\n"
     ]
    },
    {
     "output_type": "stream",
     "name": "stderr",
     "text": [
      "100%|███████████████████████████████████████████| 40/40 [00:07<00:00,  5.10it/s]\n"
     ]
    },
    {
     "output_type": "stream",
     "name": "stdout",
     "text": [
      "7.7140900015830995\n"
     ]
    },
    {
     "output_type": "stream",
     "name": "stderr",
     "text": [
      "100%|███████████████████████████████████████████| 40/40 [00:07<00:00,  5.09it/s]\n"
     ]
    },
    {
     "output_type": "stream",
     "name": "stdout",
     "text": [
      "6.516689586639404\n"
     ]
    },
    {
     "output_type": "stream",
     "name": "stderr",
     "text": [
      "100%|███████████████████████████████████████████| 40/40 [00:07<00:00,  5.09it/s]\n"
     ]
    },
    {
     "output_type": "stream",
     "name": "stdout",
     "text": [
      "5.08208976984024\n"
     ]
    },
    {
     "output_type": "stream",
     "name": "stderr",
     "text": [
      "100%|███████████████████████████████████████████| 40/40 [00:07<00:00,  5.08it/s]\n"
     ]
    },
    {
     "output_type": "stream",
     "name": "stdout",
     "text": [
      "4.404511547088623\n"
     ]
    },
    {
     "output_type": "stream",
     "name": "stderr",
     "text": [
      "100%|███████████████████████████████████████████| 40/40 [00:07<00:00,  5.08it/s]\n"
     ]
    },
    {
     "output_type": "stream",
     "name": "stdout",
     "text": [
      "4.054335874319077\n"
     ]
    },
    {
     "output_type": "stream",
     "name": "stderr",
     "text": [
      "100%|███████████████████████████████████████████| 40/40 [00:07<00:00,  5.08it/s]\n"
     ]
    },
    {
     "output_type": "stream",
     "name": "stdout",
     "text": [
      "3.8003475069999695\n"
     ]
    },
    {
     "output_type": "stream",
     "name": "stderr",
     "text": [
      "100%|███████████████████████████████████████████| 40/40 [00:07<00:00,  5.08it/s]\n"
     ]
    },
    {
     "output_type": "stream",
     "name": "stdout",
     "text": [
      "3.6051990032196044\n"
     ]
    },
    {
     "output_type": "stream",
     "name": "stderr",
     "text": [
      "100%|███████████████████████████████████████████| 40/40 [00:07<00:00,  5.07it/s]\n"
     ]
    },
    {
     "output_type": "stream",
     "name": "stdout",
     "text": [
      "3.461033356189728\n"
     ]
    },
    {
     "output_type": "stream",
     "name": "stderr",
     "text": [
      "100%|███████████████████████████████████████████| 40/40 [00:07<00:00,  5.07it/s]\n"
     ]
    },
    {
     "output_type": "stream",
     "name": "stdout",
     "text": [
      "3.350733518600464\n"
     ]
    },
    {
     "output_type": "stream",
     "name": "stderr",
     "text": [
      "100%|███████████████████████████████████████████| 40/40 [00:07<00:00,  5.07it/s]\n"
     ]
    },
    {
     "output_type": "stream",
     "name": "stdout",
     "text": [
      "3.253147131204605\n"
     ]
    },
    {
     "output_type": "stream",
     "name": "stderr",
     "text": [
      "100%|███████████████████████████████████████████| 40/40 [00:07<00:00,  5.07it/s]\n"
     ]
    },
    {
     "output_type": "stream",
     "name": "stdout",
     "text": [
      "3.145345610380173\n"
     ]
    },
    {
     "output_type": "stream",
     "name": "stderr",
     "text": [
      "100%|███████████████████████████████████████████| 40/40 [00:07<00:00,  5.05it/s]\n"
     ]
    },
    {
     "output_type": "stream",
     "name": "stdout",
     "text": [
      "3.0396419405937194\n"
     ]
    },
    {
     "output_type": "stream",
     "name": "stderr",
     "text": [
      "100%|███████████████████████████████████████████| 40/40 [00:07<00:00,  5.05it/s]\n"
     ]
    },
    {
     "output_type": "stream",
     "name": "stdout",
     "text": [
      "2.9402716934680937\n"
     ]
    },
    {
     "output_type": "stream",
     "name": "stderr",
     "text": [
      "100%|███████████████████████████████████████████| 40/40 [00:07<00:00,  5.06it/s]\n"
     ]
    },
    {
     "output_type": "stream",
     "name": "stdout",
     "text": [
      "2.843238526582718\n"
     ]
    },
    {
     "output_type": "stream",
     "name": "stderr",
     "text": [
      "100%|███████████████████████████████████████████| 40/40 [00:07<00:00,  5.04it/s]\n"
     ]
    },
    {
     "output_type": "stream",
     "name": "stdout",
     "text": [
      "2.753033608198166\n"
     ]
    },
    {
     "output_type": "stream",
     "name": "stderr",
     "text": [
      "100%|███████████████████████████████████████████| 40/40 [00:07<00:00,  5.04it/s]\n"
     ]
    },
    {
     "output_type": "stream",
     "name": "stdout",
     "text": [
      "2.6711892008781435\n"
     ]
    },
    {
     "output_type": "stream",
     "name": "stderr",
     "text": [
      "100%|███████████████████████████████████████████| 40/40 [00:07<00:00,  5.05it/s]\n"
     ]
    },
    {
     "output_type": "stream",
     "name": "stdout",
     "text": [
      "2.5930818021297455\n"
     ]
    },
    {
     "output_type": "stream",
     "name": "stderr",
     "text": [
      "100%|███████████████████████████████████████████| 40/40 [00:07<00:00,  5.06it/s]\n"
     ]
    },
    {
     "output_type": "stream",
     "name": "stdout",
     "text": [
      "2.5120399713516237\n"
     ]
    },
    {
     "output_type": "stream",
     "name": "stderr",
     "text": [
      "100%|███████████████████████████████████████████| 40/40 [00:07<00:00,  5.05it/s]\n"
     ]
    },
    {
     "output_type": "stream",
     "name": "stdout",
     "text": [
      "2.428777125477791\n"
     ]
    },
    {
     "output_type": "stream",
     "name": "stderr",
     "text": [
      "100%|███████████████████████████████████████████| 40/40 [00:07<00:00,  5.05it/s]\n"
     ]
    },
    {
     "output_type": "stream",
     "name": "stdout",
     "text": [
      "2.35033301115036\n"
     ]
    },
    {
     "output_type": "stream",
     "name": "stderr",
     "text": [
      "100%|███████████████████████████████████████████| 40/40 [00:07<00:00,  5.05it/s]\n"
     ]
    },
    {
     "output_type": "stream",
     "name": "stdout",
     "text": [
      "2.2747700572013856\n"
     ]
    },
    {
     "output_type": "stream",
     "name": "stderr",
     "text": [
      "100%|███████████████████████████████████████████| 40/40 [00:07<00:00,  5.05it/s]\n"
     ]
    },
    {
     "output_type": "stream",
     "name": "stdout",
     "text": [
      "2.2024526327848433\n"
     ]
    },
    {
     "output_type": "stream",
     "name": "stderr",
     "text": [
      "100%|███████████████████████████████████████████| 40/40 [00:07<00:00,  5.05it/s]\n"
     ]
    },
    {
     "output_type": "stream",
     "name": "stdout",
     "text": [
      "2.130171298980713\n"
     ]
    },
    {
     "output_type": "stream",
     "name": "stderr",
     "text": [
      "100%|███████████████████████████████████████████| 40/40 [00:07<00:00,  5.05it/s]\n"
     ]
    },
    {
     "output_type": "stream",
     "name": "stdout",
     "text": [
      "2.0553923189640044\n"
     ]
    },
    {
     "output_type": "stream",
     "name": "stderr",
     "text": [
      "100%|███████████████████████████████████████████| 40/40 [00:07<00:00,  5.05it/s]\n"
     ]
    },
    {
     "output_type": "stream",
     "name": "stdout",
     "text": [
      "1.9885954856872559\n"
     ]
    },
    {
     "output_type": "stream",
     "name": "stderr",
     "text": [
      "100%|███████████████████████████████████████████| 40/40 [00:07<00:00,  5.00it/s]\n"
     ]
    },
    {
     "output_type": "stream",
     "name": "stdout",
     "text": [
      "1.9220196843147277\n"
     ]
    },
    {
     "output_type": "stream",
     "name": "stderr",
     "text": [
      "100%|███████████████████████████████████████████| 40/40 [00:07<00:00,  5.10it/s]\n"
     ]
    },
    {
     "output_type": "stream",
     "name": "stdout",
     "text": [
      "1.8575576305389405\n"
     ]
    },
    {
     "output_type": "stream",
     "name": "stderr",
     "text": [
      "100%|███████████████████████████████████████████| 40/40 [00:07<00:00,  5.11it/s]\n"
     ]
    },
    {
     "output_type": "stream",
     "name": "stdout",
     "text": [
      "1.7970307648181916\n"
     ]
    },
    {
     "output_type": "stream",
     "name": "stderr",
     "text": [
      "100%|███████████████████████████████████████████| 40/40 [00:07<00:00,  5.11it/s]\n"
     ]
    },
    {
     "output_type": "stream",
     "name": "stdout",
     "text": [
      "1.7371515393257142\n",
      "------Training complete-----\n",
      "Training all_10k :\n"
     ]
    },
    {
     "output_type": "stream",
     "name": "stderr",
     "text": [
      "100%|███████████████████████████████████████████| 79/79 [00:15<00:00,  5.06it/s]\n"
     ]
    },
    {
     "output_type": "stream",
     "name": "stdout",
     "text": [
      "8.519396631023552\n"
     ]
    },
    {
     "output_type": "stream",
     "name": "stderr",
     "text": [
      "100%|███████████████████████████████████████████| 79/79 [00:15<00:00,  5.05it/s]\n"
     ]
    },
    {
     "output_type": "stream",
     "name": "stdout",
     "text": [
      "5.746402812909476\n"
     ]
    },
    {
     "output_type": "stream",
     "name": "stderr",
     "text": [
      "100%|███████████████████████████████████████████| 79/79 [00:15<00:00,  5.05it/s]\n"
     ]
    },
    {
     "output_type": "stream",
     "name": "stdout",
     "text": [
      "4.236686631094051\n"
     ]
    },
    {
     "output_type": "stream",
     "name": "stderr",
     "text": [
      "100%|███████████████████████████████████████████| 79/79 [00:15<00:00,  5.05it/s]\n"
     ]
    },
    {
     "output_type": "stream",
     "name": "stdout",
     "text": [
      "3.7181610004811345\n"
     ]
    },
    {
     "output_type": "stream",
     "name": "stderr",
     "text": [
      "100%|███████████████████████████████████████████| 79/79 [00:15<00:00,  5.05it/s]\n"
     ]
    },
    {
     "output_type": "stream",
     "name": "stdout",
     "text": [
      "3.4179586579528034\n"
     ]
    },
    {
     "output_type": "stream",
     "name": "stderr",
     "text": [
      "100%|███████████████████████████████████████████| 79/79 [00:15<00:00,  5.05it/s]\n"
     ]
    },
    {
     "output_type": "stream",
     "name": "stdout",
     "text": [
      "3.1908141782012165\n"
     ]
    },
    {
     "output_type": "stream",
     "name": "stderr",
     "text": [
      "100%|███████████████████████████████████████████| 79/79 [00:15<00:00,  5.05it/s]\n"
     ]
    },
    {
     "output_type": "stream",
     "name": "stdout",
     "text": [
      "2.989384313172932\n"
     ]
    },
    {
     "output_type": "stream",
     "name": "stderr",
     "text": [
      "100%|███████████████████████████████████████████| 79/79 [00:15<00:00,  5.05it/s]\n"
     ]
    },
    {
     "output_type": "stream",
     "name": "stdout",
     "text": [
      "2.808180389525015\n"
     ]
    },
    {
     "output_type": "stream",
     "name": "stderr",
     "text": [
      "100%|███████████████████████████████████████████| 79/79 [00:15<00:00,  5.05it/s]\n"
     ]
    },
    {
     "output_type": "stream",
     "name": "stdout",
     "text": [
      "2.641065244433246\n"
     ]
    },
    {
     "output_type": "stream",
     "name": "stderr",
     "text": [
      "100%|███████████████████████████████████████████| 79/79 [00:15<00:00,  5.05it/s]\n"
     ]
    },
    {
     "output_type": "stream",
     "name": "stdout",
     "text": [
      "2.4760788452776175\n"
     ]
    },
    {
     "output_type": "stream",
     "name": "stderr",
     "text": [
      "100%|███████████████████████████████████████████| 79/79 [00:15<00:00,  5.05it/s]\n"
     ]
    },
    {
     "output_type": "stream",
     "name": "stdout",
     "text": [
      "2.3212369786033147\n"
     ]
    },
    {
     "output_type": "stream",
     "name": "stderr",
     "text": [
      "100%|███████████████████████████████████████████| 79/79 [00:15<00:00,  5.05it/s]\n"
     ]
    },
    {
     "output_type": "stream",
     "name": "stdout",
     "text": [
      "2.177481705629373\n"
     ]
    },
    {
     "output_type": "stream",
     "name": "stderr",
     "text": [
      "100%|███████████████████████████████████████████| 79/79 [00:15<00:00,  5.05it/s]\n"
     ]
    },
    {
     "output_type": "stream",
     "name": "stdout",
     "text": [
      "2.0453022416633897\n"
     ]
    },
    {
     "output_type": "stream",
     "name": "stderr",
     "text": [
      "100%|███████████████████████████████████████████| 79/79 [00:15<00:00,  5.06it/s]\n"
     ]
    },
    {
     "output_type": "stream",
     "name": "stdout",
     "text": [
      "1.9294219273555129\n"
     ]
    },
    {
     "output_type": "stream",
     "name": "stderr",
     "text": [
      "100%|███████████████████████████████████████████| 79/79 [00:15<00:00,  5.06it/s]\n"
     ]
    },
    {
     "output_type": "stream",
     "name": "stdout",
     "text": [
      "1.8268735514411443\n"
     ]
    },
    {
     "output_type": "stream",
     "name": "stderr",
     "text": [
      "100%|███████████████████████████████████████████| 79/79 [00:15<00:00,  5.06it/s]\n"
     ]
    },
    {
     "output_type": "stream",
     "name": "stdout",
     "text": [
      "1.7425004092952874\n"
     ]
    },
    {
     "output_type": "stream",
     "name": "stderr",
     "text": [
      "100%|███████████████████████████████████████████| 79/79 [00:15<00:00,  5.06it/s]\n"
     ]
    },
    {
     "output_type": "stream",
     "name": "stdout",
     "text": [
      "1.6673842698712893\n"
     ]
    },
    {
     "output_type": "stream",
     "name": "stderr",
     "text": [
      "100%|███████████████████████████████████████████| 79/79 [00:15<00:00,  5.06it/s]\n"
     ]
    },
    {
     "output_type": "stream",
     "name": "stdout",
     "text": [
      "1.6047959312607971\n"
     ]
    },
    {
     "output_type": "stream",
     "name": "stderr",
     "text": [
      "100%|███████████████████████████████████████████| 79/79 [00:15<00:00,  5.06it/s]\n"
     ]
    },
    {
     "output_type": "stream",
     "name": "stdout",
     "text": [
      "1.551860762547843\n"
     ]
    },
    {
     "output_type": "stream",
     "name": "stderr",
     "text": [
      "100%|███████████████████████████████████████████| 79/79 [00:15<00:00,  5.06it/s]\n"
     ]
    },
    {
     "output_type": "stream",
     "name": "stdout",
     "text": [
      "1.510283796093132\n"
     ]
    },
    {
     "output_type": "stream",
     "name": "stderr",
     "text": [
      "100%|███████████████████████████████████████████| 79/79 [00:15<00:00,  5.06it/s]\n"
     ]
    },
    {
     "output_type": "stream",
     "name": "stdout",
     "text": [
      "1.4740986069546471\n"
     ]
    },
    {
     "output_type": "stream",
     "name": "stderr",
     "text": [
      "100%|███████████████████████████████████████████| 79/79 [00:15<00:00,  5.03it/s]\n"
     ]
    },
    {
     "output_type": "stream",
     "name": "stdout",
     "text": [
      "1.4455520337141012\n"
     ]
    },
    {
     "output_type": "stream",
     "name": "stderr",
     "text": [
      "100%|███████████████████████████████████████████| 79/79 [00:15<00:00,  5.06it/s]\n"
     ]
    },
    {
     "output_type": "stream",
     "name": "stdout",
     "text": [
      "1.4229220906390418\n"
     ]
    },
    {
     "output_type": "stream",
     "name": "stderr",
     "text": [
      "100%|███████████████████████████████████████████| 79/79 [00:15<00:00,  5.06it/s]\n"
     ]
    },
    {
     "output_type": "stream",
     "name": "stdout",
     "text": [
      "1.4041222107561329\n"
     ]
    },
    {
     "output_type": "stream",
     "name": "stderr",
     "text": [
      "100%|███████████████████████████████████████████| 79/79 [00:15<00:00,  5.06it/s]\n"
     ]
    },
    {
     "output_type": "stream",
     "name": "stdout",
     "text": [
      "1.3908566689189477\n"
     ]
    },
    {
     "output_type": "stream",
     "name": "stderr",
     "text": [
      "100%|███████████████████████████████████████████| 79/79 [00:15<00:00,  5.06it/s]\n"
     ]
    },
    {
     "output_type": "stream",
     "name": "stdout",
     "text": [
      "1.3827855722813667\n"
     ]
    },
    {
     "output_type": "stream",
     "name": "stderr",
     "text": [
      "100%|███████████████████████████████████████████| 79/79 [00:15<00:00,  5.06it/s]\n"
     ]
    },
    {
     "output_type": "stream",
     "name": "stdout",
     "text": [
      "1.3754343609266644\n"
     ]
    },
    {
     "output_type": "stream",
     "name": "stderr",
     "text": [
      "100%|███████████████████████████████████████████| 79/79 [00:15<00:00,  5.06it/s]\n"
     ]
    },
    {
     "output_type": "stream",
     "name": "stdout",
     "text": [
      "1.373536877994296\n"
     ]
    },
    {
     "output_type": "stream",
     "name": "stderr",
     "text": [
      "100%|███████████████████████████████████████████| 79/79 [00:15<00:00,  5.07it/s]\n"
     ]
    },
    {
     "output_type": "stream",
     "name": "stdout",
     "text": [
      "1.3715233229383637\n"
     ]
    },
    {
     "output_type": "stream",
     "name": "stderr",
     "text": [
      "100%|███████████████████████████████████████████| 79/79 [00:15<00:00,  5.07it/s]\n"
     ]
    },
    {
     "output_type": "stream",
     "name": "stdout",
     "text": [
      "1.370408046094677\n",
      "------Training complete-----\n",
      "Training all_20k :\n"
     ]
    },
    {
     "output_type": "stream",
     "name": "stderr",
     "text": [
      "100%|█████████████████████████████████████████| 157/157 [00:31<00:00,  5.03it/s]\n"
     ]
    },
    {
     "output_type": "stream",
     "name": "stdout",
     "text": [
      "7.12200946564887\n"
     ]
    },
    {
     "output_type": "stream",
     "name": "stderr",
     "text": [
      "100%|█████████████████████████████████████████| 157/157 [00:31<00:00,  5.02it/s]\n"
     ]
    },
    {
     "output_type": "stream",
     "name": "stdout",
     "text": [
      "4.003927965832364\n"
     ]
    },
    {
     "output_type": "stream",
     "name": "stderr",
     "text": [
      "100%|█████████████████████████████████████████| 157/157 [00:31<00:00,  4.99it/s]\n"
     ]
    },
    {
     "output_type": "stream",
     "name": "stdout",
     "text": [
      "3.3561640985452446\n"
     ]
    },
    {
     "output_type": "stream",
     "name": "stderr",
     "text": [
      "100%|█████████████████████████████████████████| 157/157 [00:31<00:00,  4.98it/s]\n"
     ]
    },
    {
     "output_type": "stream",
     "name": "stdout",
     "text": [
      "2.9987285850913663\n"
     ]
    },
    {
     "output_type": "stream",
     "name": "stderr",
     "text": [
      "100%|█████████████████████████████████████████| 157/157 [00:31<00:00,  4.98it/s]\n"
     ]
    },
    {
     "output_type": "stream",
     "name": "stdout",
     "text": [
      "2.7166697098191377\n"
     ]
    },
    {
     "output_type": "stream",
     "name": "stderr",
     "text": [
      "100%|█████████████████████████████████████████| 157/157 [00:31<00:00,  5.01it/s]\n"
     ]
    },
    {
     "output_type": "stream",
     "name": "stdout",
     "text": [
      "2.47628172795484\n"
     ]
    },
    {
     "output_type": "stream",
     "name": "stderr",
     "text": [
      "100%|█████████████████████████████████████████| 157/157 [00:31<00:00,  5.03it/s]\n"
     ]
    },
    {
     "output_type": "stream",
     "name": "stdout",
     "text": [
      "2.2339039775216656\n"
     ]
    },
    {
     "output_type": "stream",
     "name": "stderr",
     "text": [
      "100%|█████████████████████████████████████████| 157/157 [00:31<00:00,  5.03it/s]\n"
     ]
    },
    {
     "output_type": "stream",
     "name": "stdout",
     "text": [
      "1.985795756054532\n"
     ]
    },
    {
     "output_type": "stream",
     "name": "stderr",
     "text": [
      "100%|█████████████████████████████████████████| 157/157 [00:31<00:00,  5.03it/s]\n"
     ]
    },
    {
     "output_type": "stream",
     "name": "stdout",
     "text": [
      "1.7964606361024698\n"
     ]
    },
    {
     "output_type": "stream",
     "name": "stderr",
     "text": [
      "100%|█████████████████████████████████████████| 157/157 [00:31<00:00,  5.03it/s]\n"
     ]
    },
    {
     "output_type": "stream",
     "name": "stdout",
     "text": [
      "1.6629075335848862\n"
     ]
    },
    {
     "output_type": "stream",
     "name": "stderr",
     "text": [
      "100%|█████████████████████████████████████████| 157/157 [00:31<00:00,  5.03it/s]\n"
     ]
    },
    {
     "output_type": "stream",
     "name": "stdout",
     "text": [
      "1.5732078590210836\n"
     ]
    },
    {
     "output_type": "stream",
     "name": "stderr",
     "text": [
      "100%|█████████████████████████████████████████| 157/157 [00:31<00:00,  5.03it/s]\n"
     ]
    },
    {
     "output_type": "stream",
     "name": "stdout",
     "text": [
      "1.5118560092464375\n"
     ]
    },
    {
     "output_type": "stream",
     "name": "stderr",
     "text": [
      "100%|█████████████████████████████████████████| 157/157 [00:31<00:00,  5.03it/s]\n"
     ]
    },
    {
     "output_type": "stream",
     "name": "stdout",
     "text": [
      "1.4687758585449997\n"
     ]
    },
    {
     "output_type": "stream",
     "name": "stderr",
     "text": [
      "100%|█████████████████████████████████████████| 157/157 [00:31<00:00,  5.04it/s]\n"
     ]
    },
    {
     "output_type": "stream",
     "name": "stdout",
     "text": [
      "1.4386598342543195\n"
     ]
    },
    {
     "output_type": "stream",
     "name": "stderr",
     "text": [
      "100%|█████████████████████████████████████████| 157/157 [00:31<00:00,  5.01it/s]\n"
     ]
    },
    {
     "output_type": "stream",
     "name": "stdout",
     "text": [
      "1.417622746935316\n"
     ]
    },
    {
     "output_type": "stream",
     "name": "stderr",
     "text": [
      "100%|█████████████████████████████████████████| 157/157 [00:31<00:00,  5.00it/s]\n"
     ]
    },
    {
     "output_type": "stream",
     "name": "stdout",
     "text": [
      "1.4029819380705524\n"
     ]
    },
    {
     "output_type": "stream",
     "name": "stderr",
     "text": [
      "100%|█████████████████████████████████████████| 157/157 [00:31<00:00,  5.00it/s]\n"
     ]
    },
    {
     "output_type": "stream",
     "name": "stdout",
     "text": [
      "1.3917973702120934\n"
     ]
    },
    {
     "output_type": "stream",
     "name": "stderr",
     "text": [
      "100%|█████████████████████████████████████████| 157/157 [00:31<00:00,  5.00it/s]\n"
     ]
    },
    {
     "output_type": "stream",
     "name": "stdout",
     "text": [
      "1.3843259310266773\n"
     ]
    },
    {
     "output_type": "stream",
     "name": "stderr",
     "text": [
      "100%|█████████████████████████████████████████| 157/157 [00:31<00:00,  5.00it/s]\n"
     ]
    },
    {
     "output_type": "stream",
     "name": "stdout",
     "text": [
      "1.3791786811913653\n"
     ]
    },
    {
     "output_type": "stream",
     "name": "stderr",
     "text": [
      "100%|█████████████████████████████████████████| 157/157 [00:31<00:00,  5.00it/s]\n"
     ]
    },
    {
     "output_type": "stream",
     "name": "stdout",
     "text": [
      "1.3771297498873085\n"
     ]
    },
    {
     "output_type": "stream",
     "name": "stderr",
     "text": [
      "100%|█████████████████████████████████████████| 157/157 [00:31<00:00,  5.00it/s]\n"
     ]
    },
    {
     "output_type": "stream",
     "name": "stdout",
     "text": [
      "1.3763046188718955\n"
     ]
    },
    {
     "output_type": "stream",
     "name": "stderr",
     "text": [
      "100%|█████████████████████████████████████████| 157/157 [00:31<00:00,  5.01it/s]\n"
     ]
    },
    {
     "output_type": "stream",
     "name": "stdout",
     "text": [
      "1.3768620673258594\n",
      "------Training complete-----\n"
     ]
    }
   ],
   "metadata": {}
  },
  {
   "cell_type": "code",
   "execution_count": 14,
   "source": [
    "def evaluation(model, val_dataset, src_vocab, trg_vocab):\n",
    "    src_itos = src_vocab.get_itos()\n",
    "    trg_itos = trg_vocab.get_itos()\n",
    "    \n",
    "    model.eval()\n",
    "    \n",
    "    reference_tokens = []\n",
    "    predicted_tokens = []\n",
    "    for source, target in tqdm(val_dataset):\n",
    "        logits = model(source[1:].unsqueeze(0), target[:-1].unsqueeze(0)) #input lacking EOS\n",
    "        golden = [trg_itos[t] for t in target if t != PAD_IDX][1:]\n",
    "        reference_tokens.append(golden)\n",
    "        target_tokens = []\n",
    "        for word in logits.tolist()[-1]:\n",
    "            guess = trg_itos[np.argmax(word)]\n",
    "            target_tokens.append(guess)\n",
    "            if guess == \"<EOS>\":\n",
    "                break\n",
    "        predicted_tokens.append(target_tokens)\n",
    "    \n",
    "    formula = average_formula_accuracy(predicted_tokens, reference_tokens, write_results=True)\n",
    "    token = average_token_accuracy(predicted_tokens, reference_tokens)\n",
    "    edit_distance = average_ld(predicted_tokens, reference_tokens)\n",
    "\n",
    "    return formula, token, edit_distance\n"
   ],
   "outputs": [],
   "metadata": {}
  },
  {
   "cell_type": "code",
   "execution_count": 15,
   "source": [
    "for transformer in transformers:\n",
    "    print(\"Evaluating model:\")\n",
    "    formula, token, edit_distance = evaluation(transformer, val_30k, text_vocab, logic_vocab)\n",
    "    print(\"average formula accuracy: \", formula)\n",
    "    print(\"average token accuracy: \", token)\n",
    "    print(\"average edit distance: \", edit_distance)\n",
    "    print(\"-----------------------\")\n"
   ],
   "outputs": [
    {
     "output_type": "stream",
     "name": "stdout",
     "text": [
      "Evaluating model:\n"
     ]
    },
    {
     "output_type": "stream",
     "name": "stderr",
     "text": [
      "100%|█████████████████████████████████████| 30000/30000 [26:02<00:00, 19.20it/s]\n",
      "30000it [00:05, 5472.27it/s]\n"
     ]
    },
    {
     "output_type": "stream",
     "name": "stdout",
     "text": [
      "average formula accuracy:  3.3333333333333335e-05\n",
      "average token accuracy:  0.7383611677865762\n",
      "average edit distance:  4.211566666666666\n",
      "-----------------------\n",
      "Evaluating model:\n"
     ]
    },
    {
     "output_type": "stream",
     "name": "stderr",
     "text": [
      "100%|█████████████████████████████████████| 30000/30000 [26:13<00:00, 19.06it/s]\n",
      "30000it [00:05, 5481.69it/s]\n"
     ]
    },
    {
     "output_type": "stream",
     "name": "stdout",
     "text": [
      "average formula accuracy:  0.09436666666666667\n",
      "average token accuracy:  0.8785327710245566\n",
      "average edit distance:  1.9728666666666668\n",
      "-----------------------\n",
      "Evaluating model:\n"
     ]
    },
    {
     "output_type": "stream",
     "name": "stderr",
     "text": [
      "100%|█████████████████████████████████████| 30000/30000 [26:45<00:00, 18.68it/s]\n",
      "30000it [00:05, 5351.08it/s]\n"
     ]
    },
    {
     "output_type": "stream",
     "name": "stdout",
     "text": [
      "average formula accuracy:  0.6861333333333334\n",
      "average token accuracy:  0.9749083070138329\n",
      "average edit distance:  0.3900666666666667\n",
      "-----------------------\n",
      "Evaluating model:\n"
     ]
    },
    {
     "output_type": "stream",
     "name": "stderr",
     "text": [
      "100%|█████████████████████████████████████| 30000/30000 [27:46<00:00, 18.01it/s]\n",
      "30000it [00:05, 5333.35it/s]"
     ]
    },
    {
     "output_type": "stream",
     "name": "stdout",
     "text": [
      "average formula accuracy:  0.8076666666666666\n",
      "average token accuracy:  0.9859253554849771\n",
      "average edit distance:  0.22463333333333332\n",
      "-----------------------\n"
     ]
    },
    {
     "output_type": "stream",
     "name": "stderr",
     "text": [
      "\n"
     ]
    }
   ],
   "metadata": {
    "scrolled": true
   }
  },
  {
   "cell_type": "code",
   "execution_count": null,
   "source": [],
   "outputs": [],
   "metadata": {}
  }
 ],
 "metadata": {
  "kernelspec": {
   "display_name": "Python 3 (ipykernel)",
   "language": "python",
   "name": "python3"
  },
  "language_info": {
   "codemirror_mode": {
    "name": "ipython",
    "version": 3
   },
   "file_extension": ".py",
   "mimetype": "text/x-python",
   "name": "python",
   "nbconvert_exporter": "python",
   "pygments_lexer": "ipython3",
   "version": "3.10.8"
  }
 },
 "nbformat": 4,
 "nbformat_minor": 5
}